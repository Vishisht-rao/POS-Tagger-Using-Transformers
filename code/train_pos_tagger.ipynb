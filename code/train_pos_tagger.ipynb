{
  "cells": [
    {
      "cell_type": "code",
      "execution_count": 12,
      "metadata": {
        "id": "AFhJpfhvBkyX"
      },
      "outputs": [],
      "source": [
        "import tensorflow_hub as hub\n",
        "import tensorflow as tf\n",
        "import numpy as np\n",
        "import keras\n",
        "from keras.utils.vis_utils import plot_model"
      ]
    },
    {
      "cell_type": "code",
      "execution_count": 2,
      "metadata": {
        "colab": {
          "base_uri": "https://localhost:8080/"
        },
        "id": "gPD-8BTmB6nA",
        "outputId": "637a649a-f320-42bb-9d28-e16db2d23029"
      },
      "outputs": [
        {
          "name": "stdout",
          "output_type": "stream",
          "text": [
            "fatal: destination path 'POS-Tagger-Using-Transformers' already exists and is not an empty directory.\n"
          ]
        }
      ],
      "source": [
        "! git clone https://github.com/Vishisht-rao/POS-Tagger-Using-Transformers.git"
      ]
    },
    {
      "cell_type": "code",
      "execution_count": 3,
      "metadata": {
        "id": "krZ1a71ECMcw"
      },
      "outputs": [],
      "source": [
        "max_seq_length = 72\n",
        "n_tags = 13 # len(tag2index)\n",
        "EPOCHS = 10"
      ]
    },
    {
      "cell_type": "code",
      "execution_count": 4,
      "metadata": {
        "id": "8Z_gzpNaCfal"
      },
      "outputs": [],
      "source": [
        "train_input_ids = np.load('POS-Tagger-Using-Transformers/preprocessing_outputs_final/train_input_ids.npz')\n",
        "train_input_masks = np.load('POS-Tagger-Using-Transformers/preprocessing_outputs_final/train_input_masks.npz')\n",
        "train_type_ids = np.load('POS-Tagger-Using-Transformers/preprocessing_outputs_final/train_type_ids.npz')\n",
        "train_tags = np.load('POS-Tagger-Using-Transformers/preprocessing_outputs_final/train_tags.npz')"
      ]
    },
    {
      "cell_type": "code",
      "execution_count": 5,
      "metadata": {
        "id": "3H4NNDsoCiL7"
      },
      "outputs": [],
      "source": [
        "train_input_ids = train_input_ids['arr_0']\n",
        "train_input_masks = train_input_masks['arr_0']\n",
        "train_type_ids = train_type_ids['arr_0']\n",
        "train_tags = train_tags['arr_0']"
      ]
    },
    {
      "cell_type": "code",
      "execution_count": 6,
      "metadata": {
        "id": "CRFeIjfnCkSE"
      },
      "outputs": [],
      "source": [
        "test_input_ids = np.load('POS-Tagger-Using-Transformers/preprocessing_outputs_final/test_input_ids.npz')\n",
        "test_input_masks = np.load('POS-Tagger-Using-Transformers/preprocessing_outputs_final/test_input_masks.npz')\n",
        "test_type_ids = np.load('POS-Tagger-Using-Transformers/preprocessing_outputs_final/test_type_ids.npz')\n",
        "test_tags = np.load('POS-Tagger-Using-Transformers/preprocessing_outputs_final/test_tags.npz')"
      ]
    },
    {
      "cell_type": "code",
      "execution_count": 7,
      "metadata": {
        "id": "VcsXTUxUCmfE"
      },
      "outputs": [],
      "source": [
        "test_input_ids = test_input_ids['arr_0']\n",
        "test_input_masks = test_input_masks['arr_0']\n",
        "test_type_ids = test_type_ids['arr_0']\n",
        "test_tags = test_tags['arr_0']"
      ]
    },
    {
      "cell_type": "code",
      "execution_count": 8,
      "metadata": {
        "id": "LGHR2YpiDXJo"
      },
      "outputs": [],
      "source": [
        "input_word_ids = tf.keras.layers.Input(shape=(max_seq_length,), dtype=tf.int32,\n",
        "                                       name=\"input_word_ids\")\n",
        "input_mask = tf.keras.layers.Input(shape=(max_seq_length,), dtype=tf.int32,\n",
        "                                   name=\"input_mask\")\n",
        "segment_ids = tf.keras.layers.Input(shape=(max_seq_length,), dtype=tf.int32,\n",
        "                                    name=\"segment_ids\")"
      ]
    },
    {
      "cell_type": "code",
      "execution_count": 9,
      "metadata": {
        "id": "v9DfS-MFEFrz"
      },
      "outputs": [],
      "source": [
        "bert_layer = hub.KerasLayer(\"https://tfhub.dev/tensorflow/bert_en_uncased_L-12_H-768_A-12/1\",\n",
        "                            trainable=True)"
      ]
    },
    {
      "cell_type": "code",
      "execution_count": 10,
      "metadata": {
        "colab": {
          "base_uri": "https://localhost:8080/"
        },
        "id": "Ghg-6axVEQAr",
        "outputId": "7e440d59-8423-441c-c957-d8988ccf1443"
      },
      "outputs": [],
      "source": [
        "bert_inputs = [input_word_ids, input_mask, segment_ids]\n",
        "bert_output = bert_layer(bert_inputs)[1]\n",
        "outputs = keras.layers.Dense(n_tags, activation=keras.activations.softmax)(bert_output)\n",
        "model = keras.models.Model(inputs=bert_inputs, outputs=outputs)"
      ]
    },
    {
      "cell_type": "code",
      "execution_count": 11,
      "metadata": {},
      "outputs": [
        {
          "name": "stdout",
          "output_type": "stream",
          "text": [
            "Model: \"model\"\n",
            "________________________________________________________________________________________________________________________________________________________________________________________________________\n",
            "Layer (type)                                                      Output Shape                                Param #                 Connected to                                                      \n",
            "========================================================================================================================================================================================================\n",
            "input_word_ids (InputLayer)                                       [(None, 72)]                                0                                                                                         \n",
            "________________________________________________________________________________________________________________________________________________________________________________________________________\n",
            "input_mask (InputLayer)                                           [(None, 72)]                                0                                                                                         \n",
            "________________________________________________________________________________________________________________________________________________________________________________________________________\n",
            "segment_ids (InputLayer)                                          [(None, 72)]                                0                                                                                         \n",
            "________________________________________________________________________________________________________________________________________________________________________________________________________\n",
            "keras_layer (KerasLayer)                                          [(None, 768), (None, None, 768)]            109482241               input_word_ids[0][0]                                              \n",
            "                                                                                                                                      input_mask[0][0]                                                  \n",
            "                                                                                                                                      segment_ids[0][0]                                                 \n",
            "________________________________________________________________________________________________________________________________________________________________________________________________________\n",
            "dense (Dense)                                                     (None, None, 13)                            9997                    keras_layer[0][1]                                                 \n",
            "========================================================================================================================================================================================================\n",
            "Total params: 109,492,238\n",
            "Trainable params: 109,492,237\n",
            "Non-trainable params: 1\n",
            "________________________________________________________________________________________________________________________________________________________________________________________________________\n"
          ]
        }
      ],
      "source": [
        "model.summary(200)"
      ]
    },
    {
      "cell_type": "code",
      "execution_count": 13,
      "metadata": {},
      "outputs": [
        {
          "data": {
            "image/png": "[encoded data removed]",
            "text/plain": [
              "<IPython.core.display.Image object>"
            ]
          },
          "execution_count": 13,
          "metadata": {},
          "output_type": "execute_result"
        }
      ],
      "source": [
        "plot_model(model, to_file='model_plot.png', show_shapes=True, show_layer_names=True)"
      ]
    },
    {
      "cell_type": "code",
      "execution_count": null,
      "metadata": {
        "id": "loxUbU1jE8vU"
      },
      "outputs": [],
      "source": [
        "model.compile(optimizer=tf.keras.optimizers.Adam(learning_rate=0.00004), loss=keras.losses.categorical_crossentropy, metrics=['accuracy'])"
      ]
    },
    {
      "cell_type": "code",
      "execution_count": null,
      "metadata": {
        "id": "i1nj5e4l4YSU"
      },
      "outputs": [],
      "source": [
        "filepath = 'my_best_model.hdf5'\n",
        "checkpoint = tf.keras.callbacks.ModelCheckpoint(filepath=filepath, \n",
        "                             monitor='val_accuracy',\n",
        "                             verbose=1, \n",
        "                             save_best_only=False,\n",
        "                             save_weights_only=True,\n",
        "                             mode='min')\n",
        "callbacks = [checkpoint]"
      ]
    },
    {
      "cell_type": "code",
      "execution_count": null,
      "metadata": {
        "colab": {
          "base_uri": "https://localhost:8080/"
        },
        "id": "1QRpAtYBFB_C",
        "outputId": "0f8e2794-8bdf-4bfa-db3f-d74a40aad886"
      },
      "outputs": [
        {
          "name": "stdout",
          "output_type": "stream",
          "text": [
            "Epoch 1/10\n",
            "3626/3626 [==============================] - ETA: 0s - loss: 0.1610 - accuracy: 0.9428\n",
            "Epoch 00001: val_accuracy improved from inf to 0.96868, saving model to my_best_model.hdf5\n",
            "3626/3626 [==============================] - 1794s 489ms/step - loss: 0.1610 - accuracy: 0.9428 - val_loss: 0.0920 - val_accuracy: 0.9687\n",
            "Epoch 2/10\n",
            "3626/3626 [==============================] - ETA: 0s - loss: 0.0642 - accuracy: 0.9772\n",
            "Epoch 00002: val_accuracy did not improve from 0.96868\n",
            "3626/3626 [==============================] - 1765s 487ms/step - loss: 0.0642 - accuracy: 0.9772 - val_loss: 0.0599 - val_accuracy: 0.9790\n",
            "Epoch 3/10\n",
            "3626/3626 [==============================] - ETA: 0s - loss: 0.0445 - accuracy: 0.9842\n",
            "Epoch 00003: val_accuracy did not improve from 0.96868\n",
            "3626/3626 [==============================] - 1764s 486ms/step - loss: 0.0445 - accuracy: 0.9842 - val_loss: 0.0504 - val_accuracy: 0.9838\n",
            "Epoch 4/10\n",
            "3626/3626 [==============================] - ETA: 0s - loss: 0.0342 - accuracy: 0.9880\n",
            "Epoch 00004: val_accuracy did not improve from 0.96868\n",
            "3626/3626 [==============================] - 1764s 486ms/step - loss: 0.0342 - accuracy: 0.9880 - val_loss: 0.0476 - val_accuracy: 0.9864\n",
            "Epoch 5/10\n",
            "3626/3626 [==============================] - ETA: 0s - loss: 0.0282 - accuracy: 0.9901\n",
            "Epoch 00005: val_accuracy did not improve from 0.96868\n",
            "3626/3626 [==============================] - 1765s 487ms/step - loss: 0.0282 - accuracy: 0.9901 - val_loss: 0.0469 - val_accuracy: 0.9880\n",
            "Epoch 6/10\n",
            "3626/3626 [==============================] - ETA: 0s - loss: 0.0254 - accuracy: 0.9911\n",
            "Epoch 00006: val_accuracy did not improve from 0.96868\n",
            "3626/3626 [==============================] - 1767s 487ms/step - loss: 0.0254 - accuracy: 0.9911 - val_loss: 0.0580 - val_accuracy: 0.9839\n",
            "Epoch 7/10\n",
            "3626/3626 [==============================] - ETA: 0s - loss: 0.0205 - accuracy: 0.9928\n",
            "Epoch 00007: val_accuracy did not improve from 0.96868\n",
            "3626/3626 [==============================] - 1765s 487ms/step - loss: 0.0205 - accuracy: 0.9928 - val_loss: 0.0496 - val_accuracy: 0.9882\n",
            "Epoch 8/10\n",
            "3626/3626 [==============================] - ETA: 0s - loss: 0.0187 - accuracy: 0.9934\n",
            "Epoch 00008: val_accuracy did not improve from 0.96868\n",
            "3626/3626 [==============================] - 1773s 489ms/step - loss: 0.0187 - accuracy: 0.9934 - val_loss: 0.0633 - val_accuracy: 0.9833\n",
            "Epoch 9/10\n",
            "3626/3626 [==============================] - ETA: 0s - loss: 0.0176 - accuracy: 0.9939\n",
            "Epoch 00009: val_accuracy did not improve from 0.96868\n",
            "3626/3626 [==============================] - 1779s 491ms/step - loss: 0.0176 - accuracy: 0.9939 - val_loss: 0.0590 - val_accuracy: 0.9850\n",
            "Epoch 10/10\n",
            "3626/3626 [==============================] - ETA: 0s - loss: 0.0160 - accuracy: 0.9944\n",
            "Epoch 00010: val_accuracy did not improve from 0.96868\n",
            "3626/3626 [==============================] - 1760s 485ms/step - loss: 0.0160 - accuracy: 0.9944 - val_loss: 0.0542 - val_accuracy: 0.9877\n"
          ]
        },
        {
          "data": {
            "text/plain": [
              "<keras.callbacks.History at 0x7f7557cde190>"
            ]
          },
          "execution_count": 22,
          "metadata": {},
          "output_type": "execute_result"
        }
      ],
      "source": [
        "model.fit([train_input_ids, train_input_masks, train_type_ids], \n",
        "                    train_tags,\n",
        "                    validation_data=([test_input_ids, test_input_masks, test_type_ids], test_tags),\n",
        "                    epochs=EPOCHS,\n",
        "                    batch_size=16,\n",
        "                    shuffle=True,\n",
        "                    verbose=1,\n",
        "                    callbacks=callbacks\n",
        "                   )"
      ]
    }
  ],
  "metadata": {
    "accelerator": "GPU",
    "colab": {
      "name": "BERT_Final_Leg_Final(1).ipynb",
      "provenance": []
    },
    "kernelspec": {
      "display_name": "Python 3",
      "name": "python3"
    },
    "language_info": {
      "codemirror_mode": {
        "name": "ipython",
        "version": 3
      },
      "file_extension": ".py",
      "mimetype": "text/x-python",
      "name": "python",
      "nbconvert_exporter": "python",
      "pygments_lexer": "ipython3",
      "version": "3.6.9"
    }
  },
  "nbformat": 4,
  "nbformat_minor": 0
}
